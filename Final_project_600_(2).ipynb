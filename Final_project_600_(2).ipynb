{
  "cells": [
    {
      "cell_type": "code",
      "execution_count": null,
      "metadata": {
        "application/vnd.databricks.v1+cell": {
          "cellMetadata": {
            "byteLimit": 2048000,
            "rowLimit": 10000
          },
          "inputWidgets": {},
          "nuid": "bb69aaf3-9fd8-4e0a-9ba0-87a916d47f2e",
          "showTitle": false,
          "title": ""
        },
        "id": "58huZCbG60pM",
        "outputId": "a60add0f-ff8b-442a-c9fd-5f0371f98303"
      },
      "outputs": [
        {
          "name": "stdout",
          "output_type": "stream",
          "text": [
            "Requirement already satisfied: pyod in c:\\users\\bss-yeshwanth\\anaconda3\\lib\\site-packages (1.0.9)\n",
            "Requirement already satisfied: scikit-learn>=0.20.0 in c:\\users\\bss-yeshwanth\\anaconda3\\lib\\site-packages (from pyod) (1.0.2)\n",
            "Requirement already satisfied: numba>=0.51 in c:\\users\\bss-yeshwanth\\anaconda3\\lib\\site-packages (from pyod) (0.55.1)\n",
            "Requirement already satisfied: scipy>=1.5.1 in c:\\users\\bss-yeshwanth\\anaconda3\\lib\\site-packages (from pyod) (1.9.1)\n",
            "Requirement already satisfied: six in c:\\users\\bss-yeshwanth\\anaconda3\\lib\\site-packages (from pyod) (1.16.0)\n",
            "Requirement already satisfied: numpy>=1.19 in c:\\users\\bss-yeshwanth\\anaconda3\\lib\\site-packages (from pyod) (1.21.5)\n",
            "Requirement already satisfied: matplotlib in c:\\users\\bss-yeshwanth\\anaconda3\\lib\\site-packages (from pyod) (3.5.2)\n",
            "Requirement already satisfied: joblib in c:\\users\\bss-yeshwanth\\anaconda3\\lib\\site-packages (from pyod) (1.1.0)\n",
            "Requirement already satisfied: setuptools in c:\\users\\bss-yeshwanth\\anaconda3\\lib\\site-packages (from numba>=0.51->pyod) (63.4.1)\n",
            "Requirement already satisfied: llvmlite<0.39,>=0.38.0rc1 in c:\\users\\bss-yeshwanth\\anaconda3\\lib\\site-packages (from numba>=0.51->pyod) (0.38.0)\n",
            "Requirement already satisfied: threadpoolctl>=2.0.0 in c:\\users\\bss-yeshwanth\\anaconda3\\lib\\site-packages (from scikit-learn>=0.20.0->pyod) (2.2.0)\n",
            "Requirement already satisfied: kiwisolver>=1.0.1 in c:\\users\\bss-yeshwanth\\anaconda3\\lib\\site-packages (from matplotlib->pyod) (1.4.2)\n",
            "Requirement already satisfied: fonttools>=4.22.0 in c:\\users\\bss-yeshwanth\\anaconda3\\lib\\site-packages (from matplotlib->pyod) (4.25.0)\n",
            "Requirement already satisfied: pillow>=6.2.0 in c:\\users\\bss-yeshwanth\\anaconda3\\lib\\site-packages (from matplotlib->pyod) (9.2.0)\n",
            "Requirement already satisfied: cycler>=0.10 in c:\\users\\bss-yeshwanth\\anaconda3\\lib\\site-packages (from matplotlib->pyod) (0.11.0)\n",
            "Requirement already satisfied: python-dateutil>=2.7 in c:\\users\\bss-yeshwanth\\anaconda3\\lib\\site-packages (from matplotlib->pyod) (2.8.2)\n",
            "Requirement already satisfied: pyparsing>=2.2.1 in c:\\users\\bss-yeshwanth\\anaconda3\\lib\\site-packages (from matplotlib->pyod) (3.0.9)\n",
            "Requirement already satisfied: packaging>=20.0 in c:\\users\\bss-yeshwanth\\anaconda3\\lib\\site-packages (from matplotlib->pyod) (21.3)\n",
            "Note: you may need to restart the kernel to use updated packages.\n"
          ]
        }
      ],
      "source": [
        "pip install pyod"
      ]
    },
    {
      "cell_type": "code",
      "execution_count": null,
      "metadata": {
        "application/vnd.databricks.v1+cell": {
          "cellMetadata": {
            "byteLimit": 2048000,
            "rowLimit": 10000
          },
          "inputWidgets": {},
          "nuid": "43cf041c-9d31-412d-a2e6-6903de83995d",
          "showTitle": false,
          "title": ""
        },
        "id": "TN9MdTjJ60pQ",
        "outputId": "bb98d694-a5c3-4cd7-f904-49953befcbe5"
      },
      "outputs": [
        {
          "name": "stdout",
          "output_type": "stream",
          "text": [
            "Requirement already satisfied: xgboost in c:\\users\\bss-yeshwanth\\anaconda3\\lib\\site-packages (1.7.5)\n",
            "Requirement already satisfied: numpy in c:\\users\\bss-yeshwanth\\anaconda3\\lib\\site-packages (from xgboost) (1.21.5)\n",
            "Requirement already satisfied: scipy in c:\\users\\bss-yeshwanth\\anaconda3\\lib\\site-packages (from xgboost) (1.9.1)\n",
            "Note: you may need to restart the kernel to use updated packages.\n"
          ]
        }
      ],
      "source": [
        "pip install xgboost"
      ]
    },
    {
      "cell_type": "code",
      "execution_count": null,
      "metadata": {
        "application/vnd.databricks.v1+cell": {
          "cellMetadata": {
            "byteLimit": 2048000,
            "rowLimit": 10000
          },
          "inputWidgets": {},
          "nuid": "a5a76bea-6126-485e-bef9-1cfd556a465e",
          "showTitle": false,
          "title": ""
        },
        "id": "vCk0BsCB60pR"
      },
      "outputs": [],
      "source": [
        "import pandas as pd\n",
        "import numpy as np\n",
        "import plotly.express as px\n",
        "import seaborn as sns\n",
        "import matplotlib.pyplot as plt\n",
        "from sklearn.model_selection import train_test_split\n",
        "from sklearn.tree import DecisionTreeClassifier\n",
        "from sklearn.preprocessing import StandardScaler\n",
        "from sklearn.preprocessing import StandardScaler\n",
        "from sklearn.metrics import classification_report\n",
        "import warnings\n",
        "warnings.filterwarnings(\"ignore\")\n",
        "from sklearn.linear_model import LogisticRegression\n",
        "from sklearn.neighbors import KNeighborsClassifier\n",
        "from sklearn.svm import SVC\n",
        "from sklearn.naive_bayes import GaussianNB\n",
        "from sklearn.tree import DecisionTreeClassifier\n",
        "from sklearn.ensemble import RandomForestClassifier\n",
        "from xgboost import XGBClassifier\n",
        "from sklearn.metrics import confusion_matrix, accuracy_score, precision_score, recall_score, f1_score\n",
        "from pyod.models.ecod import ECOD\n",
        "from pyod.models.ecod import ECOD\n",
        "from pyod.models.ecod import ECOD\n",
        "from pyod.utils.data import generate_data\n",
        "from pyod.utils.data import evaluate_print\n",
        "from pyod.utils.example import visualize\n",
        "from sklearn.neighbors import KNeighborsClassifier"
      ]
    },
    {
      "cell_type": "code",
      "execution_count": null,
      "metadata": {
        "application/vnd.databricks.v1+cell": {
          "cellMetadata": {
            "byteLimit": 2048000,
            "rowLimit": 10000
          },
          "inputWidgets": {},
          "nuid": "0084a442-22c0-4f47-8ed1-da149177e68f",
          "showTitle": false,
          "title": ""
        },
        "id": "fP7_U-SU60pS",
        "outputId": "195fdebf-eef8-4ef0-8e4f-898d6b792ada"
      },
      "outputs": [
        {
          "name": "stdout",
          "output_type": "stream",
          "text": [
            "   step      type    amount     nameOrig  oldbalanceOrg  newbalanceOrig  \\\n",
            "0     1   PAYMENT   9839.64  C1231006815       170136.0       160296.36   \n",
            "1     1   PAYMENT   1864.28  C1666544295        21249.0        19384.72   \n",
            "2     1  TRANSFER    181.00  C1305486145          181.0            0.00   \n",
            "3     1  CASH_OUT    181.00   C840083671          181.0            0.00   \n",
            "4     1   PAYMENT  11668.14  C2048537720        41554.0        29885.86   \n",
            "\n",
            "      nameDest  oldbalanceDest  newbalanceDest  isFraud  isFlaggedFraud  \n",
            "0  M1979787155             0.0             0.0        0               0  \n",
            "1  M2044282225             0.0             0.0        0               0  \n",
            "2   C553264065             0.0             0.0        1               0  \n",
            "3    C38997010         21182.0             0.0        1               0  \n",
            "4  M1230701703             0.0             0.0        0               0  \n"
          ]
        }
      ],
      "source": [
        "data = pd.read_csv(\"onlinefraud.csv\")\n",
        "print(data.head())"
      ]
    },
    {
      "cell_type": "code",
      "execution_count": null,
      "metadata": {
        "application/vnd.databricks.v1+cell": {
          "cellMetadata": {
            "byteLimit": 2048000,
            "rowLimit": 10000
          },
          "inputWidgets": {},
          "nuid": "96012c9d-5b9d-4fb9-afb8-50b0e466bad9",
          "showTitle": false,
          "title": ""
        },
        "id": "s04VXTgi60pS",
        "outputId": "5a9d61dc-605a-421e-ac44-835f1cba2d9d"
      },
      "outputs": [
        {
          "data": {
            "text/plain": [
              "(6362620, 11)"
            ]
          },
          "execution_count": 3,
          "metadata": {},
          "output_type": "execute_result"
        }
      ],
      "source": [
        "# number of rows and columns\n",
        "data.shape"
      ]
    },
    {
      "cell_type": "code",
      "execution_count": null,
      "metadata": {
        "application/vnd.databricks.v1+cell": {
          "cellMetadata": {
            "byteLimit": 2048000,
            "rowLimit": 10000
          },
          "inputWidgets": {},
          "nuid": "e1386f6f-ab5e-4837-8713-853c0efacb1a",
          "showTitle": false,
          "title": ""
        },
        "id": "BeahIKTJ60pT",
        "outputId": "e6b84b98-13f8-4617-8bcc-fdfd744b76ed"
      },
      "outputs": [
        {
          "name": "stdout",
          "output_type": "stream",
          "text": [
            "step              0\n",
            "type              0\n",
            "amount            0\n",
            "nameOrig          0\n",
            "oldbalanceOrg     0\n",
            "newbalanceOrig    0\n",
            "nameDest          0\n",
            "oldbalanceDest    0\n",
            "newbalanceDest    0\n",
            "isFraud           0\n",
            "isFlaggedFraud    0\n",
            "dtype: int64\n"
          ]
        }
      ],
      "source": [
        "# Now, let’s have a look at whether this dataset has any null values or not\n",
        "\n",
        "print(data.isnull().sum())"
      ]
    },
    {
      "cell_type": "code",
      "execution_count": null,
      "metadata": {
        "application/vnd.databricks.v1+cell": {
          "cellMetadata": {
            "byteLimit": 2048000,
            "rowLimit": 10000
          },
          "inputWidgets": {},
          "nuid": "993545cf-4eff-4e99-ad83-a3c384431e58",
          "showTitle": false,
          "title": ""
        },
        "id": "9h6nS2es60pT",
        "outputId": "eefd107f-c9b6-4b72-906d-5c4bf9e921fa"
      },
      "outputs": [
        {
          "name": "stdout",
          "output_type": "stream",
          "text": [
            "CASH_OUT    2237500\n",
            "PAYMENT     2151495\n",
            "CASH_IN     1399284\n",
            "TRANSFER     532909\n",
            "DEBIT         41432\n",
            "Name: type, dtype: int64\n"
          ]
        }
      ],
      "source": [
        "print(data.type.value_counts())"
      ]
    },
    {
      "cell_type": "code",
      "execution_count": null,
      "metadata": {
        "application/vnd.databricks.v1+cell": {
          "cellMetadata": {
            "byteLimit": 2048000,
            "rowLimit": 10000
          },
          "inputWidgets": {},
          "nuid": "b624c26b-d993-4355-b87b-8024bfd7cd20",
          "showTitle": false,
          "title": ""
        },
        "id": "WdW_sJZ160pU",
        "outputId": "72723d14-548e-4dc3-ecd9-ed14ea3b1c8a"
      },
      "outputs": [
        {
          "data": {
            "text/html": [
              "<div>\n",
              "<style scoped>\n",
              "    .dataframe tbody tr th:only-of-type {\n",
              "        vertical-align: middle;\n",
              "    }\n",
              "\n",
              "    .dataframe tbody tr th {\n",
              "        vertical-align: top;\n",
              "    }\n",
              "\n",
              "    .dataframe thead th {\n",
              "        text-align: right;\n",
              "    }\n",
              "</style>\n",
              "<table border=\"1\" class=\"dataframe\">\n",
              "  <thead>\n",
              "    <tr style=\"text-align: right;\">\n",
              "      <th>isFraud</th>\n",
              "      <th>0</th>\n",
              "      <th>1</th>\n",
              "    </tr>\n",
              "    <tr>\n",
              "      <th>type</th>\n",
              "      <th></th>\n",
              "      <th></th>\n",
              "    </tr>\n",
              "  </thead>\n",
              "  <tbody>\n",
              "    <tr>\n",
              "      <th>CASH_IN</th>\n",
              "      <td>1399284</td>\n",
              "      <td>0</td>\n",
              "    </tr>\n",
              "    <tr>\n",
              "      <th>CASH_OUT</th>\n",
              "      <td>2233384</td>\n",
              "      <td>4116</td>\n",
              "    </tr>\n",
              "    <tr>\n",
              "      <th>DEBIT</th>\n",
              "      <td>41432</td>\n",
              "      <td>0</td>\n",
              "    </tr>\n",
              "    <tr>\n",
              "      <th>PAYMENT</th>\n",
              "      <td>2151495</td>\n",
              "      <td>0</td>\n",
              "    </tr>\n",
              "    <tr>\n",
              "      <th>TRANSFER</th>\n",
              "      <td>528812</td>\n",
              "      <td>4097</td>\n",
              "    </tr>\n",
              "  </tbody>\n",
              "</table>\n",
              "</div>"
            ],
            "text/plain": [
              "isFraud         0     1\n",
              "type                   \n",
              "CASH_IN   1399284     0\n",
              "CASH_OUT  2233384  4116\n",
              "DEBIT       41432     0\n",
              "PAYMENT   2151495     0\n",
              "TRANSFER   528812  4097"
            ]
          },
          "execution_count": 6,
          "metadata": {},
          "output_type": "execute_result"
        }
      ],
      "source": [
        "CrosstabResult=pd.crosstab(index=data.type,columns=data.isFraud)\n",
        "CrosstabResult"
      ]
    },
    {
      "cell_type": "code",
      "execution_count": null,
      "metadata": {
        "application/vnd.databricks.v1+cell": {
          "cellMetadata": {
            "byteLimit": 2048000,
            "rowLimit": 10000
          },
          "inputWidgets": {},
          "nuid": "6ce3d8e0-33a5-4938-a87f-b056b6f0bb14",
          "showTitle": false,
          "title": ""
        },
        "id": "IEXGJhw760pV",
        "outputId": "383966bc-d6c6-45f8-bb3e-8b8890ffe095"
      },
      "outputs": [
        {
          "data": {
            "text/plain": [
              "(3500.0, 7000.0)"
            ]
          },
          "execution_count": 7,
          "metadata": {},
          "output_type": "execute_result"
        },
        {
          "data": {
            "image/png": "[encoded data removed]",
            "text/plain": [
              "<Figure size 700x400 with 1 Axes>"
            ]
          },
          "metadata": {},
          "output_type": "display_data"
        }
      ],
      "source": [
        "# Grouped bar chart between TYPE and ISFRAUD by changing ylimit to view isFraud values\n",
        "CrosstabResult.plot.bar(figsize=(7,4), rot=0)\n",
        "plt.ylim([3500, 7000])"
      ]
    },
    {
      "cell_type": "code",
      "execution_count": null,
      "metadata": {
        "application/vnd.databricks.v1+cell": {
          "cellMetadata": {
            "byteLimit": 2048000,
            "rowLimit": 10000
          },
          "inputWidgets": {},
          "nuid": "27f136bf-69d7-4551-b3b7-822dbdd7a87f",
          "showTitle": false,
          "title": ""
        },
        "id": "9TlS_U4s60pV",
        "outputId": "64d1195c-6299-4a78-821f-0bafae442414"
      },
      "outputs": [
        {
          "data": {
            "text/plain": [
              "<AxesSubplot:>"
            ]
          },
          "execution_count": 8,
          "metadata": {},
          "output_type": "execute_result"
        },
        {
          "data": {
            "image/png": "[encoded data removed]",
            "text/plain": [
              "<Figure size 640x480 with 2 Axes>"
            ]
          },
          "metadata": {},
          "output_type": "display_data"
        }
      ],
      "source": [
        "# calculate correlation matrix\n",
        "corr = data.corr()# plot the heatmap\n",
        "sns.heatmap(corr, xticklabels=corr.columns, yticklabels=corr.columns, annot=True, cmap='Blues' ,fmt=\".3f\")"
      ]
    },
    {
      "cell_type": "code",
      "execution_count": null,
      "metadata": {
        "application/vnd.databricks.v1+cell": {
          "cellMetadata": {
            "byteLimit": 2048000,
            "rowLimit": 10000
          },
          "inputWidgets": {},
          "nuid": "1d64b229-3cd8-4870-b2ef-c5a096381741",
          "showTitle": false,
          "title": ""
        },
        "id": "ISQMVjky60pW",
        "outputId": "6a5a97fc-fa4f-4e3c-8221-1e46538dade6"
      },
      "outputs": [
        {
          "data": {
            "text/plain": [
              "0    6354407\n",
              "1       8213\n",
              "Name: isFraud, dtype: int64"
            ]
          },
          "execution_count": 9,
          "metadata": {},
          "output_type": "execute_result"
        }
      ],
      "source": [
        "data.isFraud.value_counts()"
      ]
    },
    {
      "cell_type": "markdown",
      "metadata": {
        "application/vnd.databricks.v1+cell": {
          "cellMetadata": {
            "byteLimit": 2048000,
            "rowLimit": 10000
          },
          "inputWidgets": {},
          "nuid": "a6ae386d-0e5f-40de-856a-4d31c75619ae",
          "showTitle": false,
          "title": ""
        },
        "id": "p0mKck-760pW"
      },
      "source": [
        "######Feature engineering"
      ]
    },
    {
      "cell_type": "code",
      "execution_count": null,
      "metadata": {
        "application/vnd.databricks.v1+cell": {
          "cellMetadata": {
            "byteLimit": 2048000,
            "rowLimit": 10000
          },
          "inputWidgets": {},
          "nuid": "4157730e-3990-4f2a-ac6b-f235b7f03843",
          "showTitle": false,
          "title": ""
        },
        "id": "nPGUGVHe60pY",
        "outputId": "d8fa4048-6afc-4d53-a55f-b745afdb039a"
      },
      "outputs": [
        {
          "name": "stdout",
          "output_type": "stream",
          "text": [
            "   step  type    amount     nameOrig  oldbalanceOrg  newbalanceOrig  \\\n",
            "0     1     2   9839.64  C1231006815       170136.0       160296.36   \n",
            "1     1     2   1864.28  C1666544295        21249.0        19384.72   \n",
            "2     1     4    181.00  C1305486145          181.0            0.00   \n",
            "3     1     1    181.00   C840083671          181.0            0.00   \n",
            "4     1     2  11668.14  C2048537720        41554.0        29885.86   \n",
            "\n",
            "      nameDest  oldbalanceDest  newbalanceDest   isFraud  isFlaggedFraud  \n",
            "0  M1979787155             0.0             0.0  No Fraud               0  \n",
            "1  M2044282225             0.0             0.0  No Fraud               0  \n",
            "2   C553264065             0.0             0.0     Fraud               0  \n",
            "3    C38997010         21182.0             0.0     Fraud               0  \n",
            "4  M1230701703             0.0             0.0  No Fraud               0  \n"
          ]
        }
      ],
      "source": [
        "# Now let’s transform the categorical features into numerical. Here we will also transform the values of the isFraud column into \n",
        "# No Fraud and Fraud labels to have a better understanding of the output\n",
        "# Changing CASH_OUT to 1, PAYMENT to 2, CASH_IN to 3, TRANSFER to 4 and DEBIT to 5 \n",
        "\n",
        "data[\"type\"] = data[\"type\"].map({\"CASH_OUT\": 1, \"PAYMENT\": 2, \"CASH_IN\": 3, \"TRANSFER\": 4, \"DEBIT\": 5})\n",
        "data[\"isFraud\"] = data[\"isFraud\"].map({0: \"No Fraud\", 1: \"Fraud\"})\n",
        "print(data.head())"
      ]
    },
    {
      "cell_type": "code",
      "execution_count": null,
      "metadata": {
        "application/vnd.databricks.v1+cell": {
          "cellMetadata": {
            "byteLimit": 2048000,
            "rowLimit": 10000
          },
          "inputWidgets": {},
          "nuid": "df2adcec-f0b4-4ac4-814a-25650ca010ad",
          "showTitle": false,
          "title": ""
        },
        "id": "WAT5834e60pY",
        "outputId": "f2d4bb3a-5636-4287-948b-3b2ccb9c841b"
      },
      "outputs": [
        {
          "data": {
            "text/html": [
              "<div>\n",
              "<style scoped>\n",
              "    .dataframe tbody tr th:only-of-type {\n",
              "        vertical-align: middle;\n",
              "    }\n",
              "\n",
              "    .dataframe tbody tr th {\n",
              "        vertical-align: top;\n",
              "    }\n",
              "\n",
              "    .dataframe thead th {\n",
              "        text-align: right;\n",
              "    }\n",
              "</style>\n",
              "<table border=\"1\" class=\"dataframe\">\n",
              "  <thead>\n",
              "    <tr style=\"text-align: right;\">\n",
              "      <th></th>\n",
              "      <th>step</th>\n",
              "      <th>type</th>\n",
              "      <th>amount</th>\n",
              "      <th>nameOrig</th>\n",
              "      <th>oldbalanceOrg</th>\n",
              "      <th>newbalanceOrig</th>\n",
              "      <th>nameDest</th>\n",
              "      <th>oldbalanceDest</th>\n",
              "      <th>newbalanceDest</th>\n",
              "      <th>isFraud</th>\n",
              "      <th>isFlaggedFraud</th>\n",
              "    </tr>\n",
              "  </thead>\n",
              "  <tbody>\n",
              "    <tr>\n",
              "      <th>0</th>\n",
              "      <td>1</td>\n",
              "      <td>2</td>\n",
              "      <td>-0.281560</td>\n",
              "      <td>C1231006815</td>\n",
              "      <td>-0.229810</td>\n",
              "      <td>160296.36</td>\n",
              "      <td>M1979787155</td>\n",
              "      <td>0.0</td>\n",
              "      <td>0.0</td>\n",
              "      <td>No Fraud</td>\n",
              "      <td>0</td>\n",
              "    </tr>\n",
              "    <tr>\n",
              "      <th>1</th>\n",
              "      <td>1</td>\n",
              "      <td>2</td>\n",
              "      <td>-0.294767</td>\n",
              "      <td>C1666544295</td>\n",
              "      <td>-0.281359</td>\n",
              "      <td>19384.72</td>\n",
              "      <td>M2044282225</td>\n",
              "      <td>0.0</td>\n",
              "      <td>0.0</td>\n",
              "      <td>No Fraud</td>\n",
              "      <td>0</td>\n",
              "    </tr>\n",
              "    <tr>\n",
              "      <th>2</th>\n",
              "      <td>1</td>\n",
              "      <td>4</td>\n",
              "      <td>-0.297555</td>\n",
              "      <td>C1305486145</td>\n",
              "      <td>-0.288654</td>\n",
              "      <td>0.00</td>\n",
              "      <td>C553264065</td>\n",
              "      <td>0.0</td>\n",
              "      <td>0.0</td>\n",
              "      <td>Fraud</td>\n",
              "      <td>0</td>\n",
              "    </tr>\n",
              "    <tr>\n",
              "      <th>3</th>\n",
              "      <td>1</td>\n",
              "      <td>1</td>\n",
              "      <td>-0.297555</td>\n",
              "      <td>C840083671</td>\n",
              "      <td>-0.288654</td>\n",
              "      <td>0.00</td>\n",
              "      <td>C38997010</td>\n",
              "      <td>21182.0</td>\n",
              "      <td>0.0</td>\n",
              "      <td>Fraud</td>\n",
              "      <td>0</td>\n",
              "    </tr>\n",
              "    <tr>\n",
              "      <th>4</th>\n",
              "      <td>1</td>\n",
              "      <td>2</td>\n",
              "      <td>-0.278532</td>\n",
              "      <td>C2048537720</td>\n",
              "      <td>-0.274329</td>\n",
              "      <td>29885.86</td>\n",
              "      <td>M1230701703</td>\n",
              "      <td>0.0</td>\n",
              "      <td>0.0</td>\n",
              "      <td>No Fraud</td>\n",
              "      <td>0</td>\n",
              "    </tr>\n",
              "  </tbody>\n",
              "</table>\n",
              "</div>"
            ],
            "text/plain": [
              "   step  type    amount     nameOrig  oldbalanceOrg  newbalanceOrig  \\\n",
              "0     1     2 -0.281560  C1231006815      -0.229810       160296.36   \n",
              "1     1     2 -0.294767  C1666544295      -0.281359        19384.72   \n",
              "2     1     4 -0.297555  C1305486145      -0.288654            0.00   \n",
              "3     1     1 -0.297555   C840083671      -0.288654            0.00   \n",
              "4     1     2 -0.278532  C2048537720      -0.274329        29885.86   \n",
              "\n",
              "      nameDest  oldbalanceDest  newbalanceDest   isFraud  isFlaggedFraud  \n",
              "0  M1979787155             0.0             0.0  No Fraud               0  \n",
              "1  M2044282225             0.0             0.0  No Fraud               0  \n",
              "2   C553264065             0.0             0.0     Fraud               0  \n",
              "3    C38997010         21182.0             0.0     Fraud               0  \n",
              "4  M1230701703             0.0             0.0  No Fraud               0  "
            ]
          },
          "execution_count": 11,
          "metadata": {},
          "output_type": "execute_result"
        }
      ],
      "source": [
        "sc = StandardScaler()\n",
        "data[[ 'amount', 'oldbalanceOrg']] = sc.fit_transform(data[[ 'amount', 'oldbalanceOrg']])\n",
        "data.head()"
      ]
    },
    {
      "cell_type": "code",
      "execution_count": null,
      "metadata": {
        "application/vnd.databricks.v1+cell": {
          "cellMetadata": {
            "byteLimit": 2048000,
            "rowLimit": 10000
          },
          "inputWidgets": {},
          "nuid": "986b6588-468b-4f25-b2db-64b6bb277e73",
          "showTitle": false,
          "title": ""
        },
        "id": "zX-zyVPi60pZ"
      },
      "outputs": [],
      "source": [
        "x = np.array(data[[\"type\", \"amount\", \"oldbalanceOrg\", \"newbalanceOrig\"]])\n",
        "y = np.array(data[[\"isFraud\"]])"
      ]
    },
    {
      "cell_type": "code",
      "execution_count": null,
      "metadata": {
        "application/vnd.databricks.v1+cell": {
          "cellMetadata": {
            "byteLimit": 2048000,
            "rowLimit": 10000
          },
          "inputWidgets": {},
          "nuid": "68d20b81-4bb3-4778-8671-a2d1e0397f98",
          "showTitle": false,
          "title": ""
        },
        "id": "D0oagWIo60pZ"
      },
      "outputs": [],
      "source": [
        "# training a machine learning model\n",
        "\n",
        "x_train, x_test, y_train, y_test = train_test_split(x, y, test_size=0.30, random_state=1)"
      ]
    },
    {
      "cell_type": "code",
      "execution_count": null,
      "metadata": {
        "application/vnd.databricks.v1+cell": {
          "cellMetadata": {
            "byteLimit": 2048000,
            "rowLimit": 10000
          },
          "inputWidgets": {},
          "nuid": "28eb2ffd-97e3-44be-8c74-94d69d8cba7b",
          "showTitle": false,
          "title": ""
        },
        "id": "sicUVmyJ60pZ",
        "outputId": "a0845bdb-7f84-41d7-bd12-c66ba7afb396"
      },
      "outputs": [
        {
          "name": "stdout",
          "output_type": "stream",
          "text": [
            "0.999648467664788\n"
          ]
        }
      ],
      "source": [
        "model = DecisionTreeClassifier()\n",
        "model.fit(x_train, y_train)\n",
        "print(model.score(x_test, y_test))"
      ]
    },
    {
      "cell_type": "code",
      "execution_count": null,
      "metadata": {
        "application/vnd.databricks.v1+cell": {
          "cellMetadata": {
            "byteLimit": 2048000,
            "rowLimit": 10000
          },
          "inputWidgets": {},
          "nuid": "8d1892a5-ef5e-42db-abc5-513d827c8c05",
          "showTitle": false,
          "title": ""
        },
        "id": "Hk-vzFaV60pa",
        "outputId": "f7ab4e1d-9b43-41c0-a739-2b387d982020"
      },
      "outputs": [
        {
          "name": "stdout",
          "output_type": "stream",
          "text": [
            "0.9999993264230324\n"
          ]
        }
      ],
      "source": [
        "print(model.score(x_train, y_train))"
      ]
    },
    {
      "cell_type": "code",
      "execution_count": null,
      "metadata": {
        "application/vnd.databricks.v1+cell": {
          "cellMetadata": {
            "byteLimit": 2048000,
            "rowLimit": 10000
          },
          "inputWidgets": {},
          "nuid": "de65e098-bc79-4ca0-9297-fdef285ba787",
          "showTitle": false,
          "title": ""
        },
        "id": "PsE3t_7a60pa",
        "outputId": "12500338-d993-4d36-bd15-1c45d4597734"
      },
      "outputs": [
        {
          "name": "stdout",
          "output_type": "stream",
          "text": [
            "['Fraud']\n"
          ]
        }
      ],
      "source": [
        "# prediction\n",
        "#features = [type, amount, oldbalanceOrg, newbalanceOrig]\n",
        "\n",
        "features = np.array([[1, 8900.2, 8990.2, 0.0]])\n",
        "print(model.predict(features))"
      ]
    },
    {
      "cell_type": "code",
      "execution_count": null,
      "metadata": {
        "application/vnd.databricks.v1+cell": {
          "cellMetadata": {
            "byteLimit": 2048000,
            "rowLimit": 10000
          },
          "inputWidgets": {},
          "nuid": "2cadbede-ed80-476d-8ac2-0f4049ad7706",
          "showTitle": false,
          "title": ""
        },
        "id": "mtXTKWCk60pa"
      },
      "outputs": [],
      "source": [
        "clf = ECOD()"
      ]
    },
    {
      "cell_type": "code",
      "execution_count": null,
      "metadata": {
        "application/vnd.databricks.v1+cell": {
          "cellMetadata": {
            "byteLimit": 2048000,
            "rowLimit": 10000
          },
          "inputWidgets": {},
          "nuid": "36254daf-9e93-4432-9c57-0e062f5e5552",
          "showTitle": false,
          "title": ""
        },
        "id": "NU5AMbjG60pb",
        "outputId": "4ec640fb-0727-4bbd-b694-7f1775bc12c1"
      },
      "outputs": [
        {
          "data": {
            "text/plain": [
              "ECOD(contamination=0.1, n_jobs=1)"
            ]
          },
          "execution_count": 18,
          "metadata": {},
          "output_type": "execute_result"
        }
      ],
      "source": [
        "clf.fit(x_train,y_train)"
      ]
    },
    {
      "cell_type": "code",
      "execution_count": null,
      "metadata": {
        "application/vnd.databricks.v1+cell": {
          "cellMetadata": {
            "byteLimit": 2048000,
            "rowLimit": 10000
          },
          "inputWidgets": {},
          "nuid": "2f1677f7-1ac8-4fe2-807f-5790d9952b1f",
          "showTitle": false,
          "title": ""
        },
        "id": "2vCF0tkz60pb",
        "outputId": "83b2765c-e472-45b5-fce9-3ed65d7607b2"
      },
      "outputs": [
        {
          "data": {
            "text/plain": [
              "array([4.80389511, 4.85383793, 8.02520501, ..., 3.66389333, 4.22270045,\n",
              "       2.79442534])"
            ]
          },
          "execution_count": 19,
          "metadata": {},
          "output_type": "execute_result"
        }
      ],
      "source": [
        "clf.decision_scores_"
      ]
    },
    {
      "cell_type": "code",
      "execution_count": null,
      "metadata": {
        "application/vnd.databricks.v1+cell": {
          "cellMetadata": {
            "byteLimit": 2048000,
            "rowLimit": 10000
          },
          "inputWidgets": {},
          "nuid": "e819cd2e-a643-4452-8e83-fbca942c29f0",
          "showTitle": false,
          "title": ""
        },
        "id": "ud-MZuNO60pb",
        "outputId": "5e148f44-8b9f-45b1-ebbc-6d3722940831"
      },
      "outputs": [
        {
          "name": "stdout",
          "output_type": "stream",
          "text": [
            "roc_auc_score: 0.2564674448245162\n"
          ]
        },
        {
          "data": {
            "text/plain": [
              "0.2564674448245162"
            ]
          },
          "execution_count": 20,
          "metadata": {},
          "output_type": "execute_result"
        }
      ],
      "source": [
        "clf.fit_predict_score(x_test,y_test,scoring='roc_auc_score')"
      ]
    },
    {
      "cell_type": "code",
      "execution_count": null,
      "metadata": {
        "application/vnd.databricks.v1+cell": {
          "cellMetadata": {
            "byteLimit": 2048000,
            "rowLimit": 10000
          },
          "inputWidgets": {},
          "nuid": "efa21b02-61f2-4a0a-baa3-8367aff5a07a",
          "showTitle": false,
          "title": ""
        },
        "id": "ovr7aG-a60pb",
        "outputId": "4421bacb-6a79-47b5-8fd3-4674f4fe23c7"
      },
      "outputs": [
        {
          "name": "stdout",
          "output_type": "stream",
          "text": [
            "roc_auc_score: 0.2532088521629633\n"
          ]
        },
        {
          "data": {
            "text/plain": [
              "0.2532088521629633"
            ]
          },
          "execution_count": 21,
          "metadata": {},
          "output_type": "execute_result"
        }
      ],
      "source": [
        "clf.fit_predict_score(x_train,y_train)"
      ]
    },
    {
      "cell_type": "markdown",
      "metadata": {
        "application/vnd.databricks.v1+cell": {
          "cellMetadata": {
            "byteLimit": 2048000,
            "rowLimit": 10000
          },
          "inputWidgets": {},
          "nuid": "6467f957-d40e-4c09-bce6-a3ed0a4961c0",
          "showTitle": false,
          "title": ""
        },
        "id": "8-xMhyEi60pc"
      },
      "source": [
        "#The ROC AUC score is 0.2564674448245162, which is relatively low. This means that the classifier has poor performance in distinguishing between positive and negative classes. A score of 0.5 indicates random guessing, while a score of 1 indicates perfect classification."
      ]
    },
    {
      "cell_type": "markdown",
      "metadata": {
        "application/vnd.databricks.v1+cell": {
          "cellMetadata": {
            "byteLimit": 2048000,
            "rowLimit": 10000
          },
          "inputWidgets": {},
          "nuid": "db91e979-22f3-4fb5-aa84-26353c19ce7c",
          "showTitle": false,
          "title": ""
        },
        "id": "ReuoIZqk60pc"
      },
      "source": [
        "clf = ECOD(n_jobs=2)\n",
        "clf.fit(x_train)\n",
        "y_train_pred = clf.labels_  # binary labels (0: inliers, 1: outliers)\n",
        "y_train_scores = clf.decision_scores_  # raw outlier scores\n",
        "y_test_pred = clf.predict(x_test)  # outlier labels (0 or 1)\n",
        "y_test_scores = clf.decision_function(y_test)  # outlier scores\n",
        "print(\"\\nOn Training Data:\")\n",
        "evaluate_print(clf_name, y_train, y_train_scores)\n",
        "print(\"\\nOn Test Data:\")\n",
        "evaluate_print(clf_name, y_test, y_test_scores)\n",
        "# visualize the results\n",
        "visualize(clf_name, x_train, y_train, x_test, y_test, y_train_pred,\n",
        "y_test_pred, show_figure=True, save_figure=False)"
      ]
    },
    {
      "cell_type": "code",
      "execution_count": null,
      "metadata": {
        "application/vnd.databricks.v1+cell": {
          "cellMetadata": {
            "byteLimit": 2048000,
            "rowLimit": 10000
          },
          "inputWidgets": {},
          "nuid": "ab87b338-1fb0-4ab4-a1ab-ad0fe573f703",
          "showTitle": false,
          "title": ""
        },
        "id": "KuxF5dVC60pc"
      },
      "outputs": [],
      "source": [
        "X_train, X_test, y_train, y_test = train_test_split(x, y, test_size=0.30, random_state=1)"
      ]
    },
    {
      "cell_type": "code",
      "execution_count": null,
      "metadata": {
        "application/vnd.databricks.v1+cell": {
          "cellMetadata": {
            "byteLimit": 2048000,
            "rowLimit": 10000
          },
          "inputWidgets": {},
          "nuid": "591cfd56-aecc-48c3-8e2e-21c3f674fd3d",
          "showTitle": false,
          "title": ""
        },
        "id": "jD12wmjV60pc"
      },
      "outputs": [],
      "source": [
        "# Create an instance of the KNeighborsClassifier class with k=10\n",
        "neigh = KNeighborsClassifier(n_neighbors=10)"
      ]
    },
    {
      "cell_type": "code",
      "execution_count": null,
      "metadata": {
        "application/vnd.databricks.v1+cell": {
          "cellMetadata": {
            "byteLimit": 2048000,
            "rowLimit": 10000
          },
          "inputWidgets": {},
          "nuid": "27922d29-71bb-4ec4-abb4-dc4452a8c4fa",
          "showTitle": false,
          "title": ""
        },
        "id": "-YPXkBz160pd",
        "outputId": "88ba4bf4-237e-42ed-9b65-4d2ed77f745f"
      },
      "outputs": [
        {
          "data": {
            "text/plain": [
              "KNeighborsClassifier(n_neighbors=10)"
            ]
          },
          "execution_count": 24,
          "metadata": {},
          "output_type": "execute_result"
        }
      ],
      "source": [
        "neigh.fit(X_train, y_train)"
      ]
    },
    {
      "cell_type": "code",
      "execution_count": null,
      "metadata": {
        "application/vnd.databricks.v1+cell": {
          "cellMetadata": {
            "byteLimit": 2048000,
            "rowLimit": 10000
          },
          "inputWidgets": {},
          "nuid": "93941e3f-2a5e-4ffa-939b-525ff3544146",
          "showTitle": false,
          "title": ""
        },
        "id": "vGLWWbYE60pd"
      },
      "outputs": [],
      "source": [
        "X_test = np.array([[1, 8900.2, 8990.2, 0.0]])"
      ]
    },
    {
      "cell_type": "code",
      "execution_count": null,
      "metadata": {
        "application/vnd.databricks.v1+cell": {
          "cellMetadata": {
            "byteLimit": 2048000,
            "rowLimit": 10000
          },
          "inputWidgets": {},
          "nuid": "99ca2d4d-c14c-4db9-b17a-72cfd0f2d895",
          "showTitle": false,
          "title": ""
        },
        "id": "1F57IQoW60pd"
      },
      "outputs": [],
      "source": [
        "y_pred = neigh.predict(X_test)"
      ]
    },
    {
      "cell_type": "code",
      "execution_count": null,
      "metadata": {
        "application/vnd.databricks.v1+cell": {
          "cellMetadata": {
            "byteLimit": 2048000,
            "rowLimit": 10000
          },
          "inputWidgets": {},
          "nuid": "1bca1fb6-abb6-4d1a-8e08-a2d265ccc223",
          "showTitle": false,
          "title": ""
        },
        "id": "tVG7ib-X60pd",
        "outputId": "a8dd9d3f-7fba-413e-9f82-6d678bcb0e6c"
      },
      "outputs": [
        {
          "name": "stdout",
          "output_type": "stream",
          "text": [
            "['No Fraud']\n"
          ]
        }
      ],
      "source": [
        "print(y_pred)"
      ]
    },
    {
      "cell_type": "code",
      "execution_count": null,
      "metadata": {
        "application/vnd.databricks.v1+cell": {
          "cellMetadata": {
            "byteLimit": 2048000,
            "rowLimit": 10000
          },
          "inputWidgets": {},
          "nuid": "f770b7d1-8771-4b83-84bf-7295392f2f06",
          "showTitle": false,
          "title": ""
        },
        "id": "Xfac3m4d60pd"
      },
      "outputs": [],
      "source": [
        "models = {\n",
        "    \"LR\": LogisticRegression(),\n",
        "    \"KNN\": KNeighborsClassifier(),\n",
        "    \"DT\": DecisionTreeClassifier(),\n",
        "    \"RF\": RandomForestClassifier(),\n",
        "    }"
      ]
    },
    {
      "cell_type": "code",
      "execution_count": null,
      "metadata": {
        "application/vnd.databricks.v1+cell": {
          "cellMetadata": {
            "byteLimit": 2048000,
            "rowLimit": 10000
          },
          "inputWidgets": {},
          "nuid": "1037473d-14ae-4039-b250-d162dcb368e8",
          "showTitle": false,
          "title": ""
        },
        "id": "MXL8j1nq60pd",
        "outputId": "3d070f21-66a6-45df-d31b-0871090f13bb"
      },
      "outputs": [
        {
          "name": "stdout",
          "output_type": "stream",
          "text": [
            "Training Model LR \n",
            "--------------\n",
            "Training Accuracy: 0.9987096510556972\n",
            "Testing Confusion Matrix: \n",
            "[[      0    2468]\n",
            " [      1 1906317]]\n",
            "Recall Score :  0.9987065076965149\n",
            "Precision Score :  0.9987065076965149\n",
            "Testing F-1: 0.9987065076965149\n",
            "------------------------------\n",
            "Training Model KNN \n",
            "--------------\n",
            "Training Accuracy: 0.9997359578286932\n",
            "Testing Confusion Matrix: \n",
            "[[   2052     416]\n",
            " [    395 1905923]]\n",
            "Recall Score :  0.9995751226172027\n",
            "Precision Score :  0.9995751226172027\n",
            "Testing F-1: 0.9995751226172027\n",
            "------------------------------\n",
            "Training Model DT \n",
            "--------------\n",
            "Training Accuracy: 0.9999993264230324\n",
            "Testing Confusion Matrix: \n",
            "[[   2125     343]\n",
            " [    314 1906004]]\n",
            "Recall Score :  0.9996558021695465\n",
            "Precision Score :  0.9996558021695465\n",
            "Testing F-1: 0.9996558021695465\n",
            "------------------------------\n",
            "Training Model RF \n",
            "--------------\n",
            "Training Accuracy: 0.9999991018973765\n",
            "Testing Confusion Matrix: \n",
            "[[   2169     299]\n",
            " [    254 1906064]]\n",
            "Recall Score :  0.9997102870620383\n",
            "Precision Score :  0.9997102870620383\n",
            "Testing F-1: 0.9997102870620383\n",
            "------------------------------\n"
          ]
        }
      ],
      "source": [
        "for name, model in models.items():\n",
        "    print(f'Training Model {name} \\n--------------')\n",
        "    model.fit(x_train, y_train)\n",
        "    y_pred = model.predict(x_test)\n",
        "    print(f'Training Accuracy: {accuracy_score(y_train, model.predict(X_train))}')\n",
        "    print(f'Testing Confusion Matrix: \\n{confusion_matrix(y_test, y_pred)}')\n",
        "    print(\"Recall Score : \",recall_score(y_test, y_pred, pos_label='positive', average='micro'))    \n",
        "    print(\"Precision Score : \",precision_score(y_test, y_pred,  pos_label='positive',average='micro'))     \n",
        "    print(f\"Testing F-1:\", f1_score(y_test, y_pred, pos_label='positive', average='micro' )        )\n",
        "    print('-'*30)"
      ]
    }
  ],
  "metadata": {
    "application/vnd.databricks.v1+notebook": {
      "dashboards": [],
      "language": "python",
      "notebookMetadata": {
        "pythonIndentUnit": 4
      },
      "notebookName": "Final project_600",
      "notebookOrigID": 2810976506138252,
      "widgets": {}
    },
    "kernelspec": {
      "display_name": "Python 3 (ipykernel)",
      "language": "python",
      "name": "python3"
    },
    "language_info": {
      "codemirror_mode": {
        "name": "ipython",
        "version": 3
      },
      "file_extension": ".py",
      "mimetype": "text/x-python",
      "name": "python",
      "nbconvert_exporter": "python",
      "pygments_lexer": "ipython3",
      "version": "3.9.13"
    },
    "colab": {
      "provenance": []
    }
  },
  "nbformat": 4,
  "nbformat_minor": 0
}